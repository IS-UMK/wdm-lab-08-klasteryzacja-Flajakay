{
 "cells": [
  {
   "cell_type": "markdown",
   "metadata": {
    "slideshow": {
     "slide_type": "slide"
    }
   },
   "source": [
    "## Zadanie - Grupowanie zwierząt\n",
    "\n",
    "Wykonaj analizę skupień dla zbioru danych `zoo`. Plik z danymi znajduje się w katalogu repozytorium [dane/zoo_nc.csv](dane/zoo_nc.csv) i jest zgodny z formatem CSV. Pierwszy wiersz pliku zawiera nazwy zmiennych.\n",
    "\n",
    "Dane zawierają 101 przypadków zwierząt opisanych 17 zmiennymi:\n",
    "- pierwsza kolumna `animal_name` to nazwa zwierzaka\n",
    "- 15 zmiennych ma wartości binarne oznaczające występowanie danej cechy u zwierzęcia, np. `hair`, `feathers`, `eggs`, `milk`, itd. \n",
    "- zmienna `legs` określa ilość nóg i posiada wartości od 0 do 8\n",
    "\n",
    "Przeprowadź analizę skupień zbioru danych znajdując istotnie różniące sie grupy zwierząt. Spodziewamy się, że wyodrębnione grupy będą odzwierciedlały podział zwierząt na gromady: ssaki, gady, płazy, ptaki, ..."
   ]
  },
  {
   "cell_type": "markdown",
   "metadata": {
    "slideshow": {
     "slide_type": "slide"
    }
   },
   "source": [
    "1. Wczytaj dane i przygotuj zbiór uczący według poniższych instrukcji:\n",
    "  - zmienna `animal_name` zawiera nazwy zwierząt, unikatowe dla kazdego przypadku. Usuń tą zmienną ze zbioru uczącego.\n",
    "  - zmienna `legs` określa liczbę nóg i przyjmuje wartości całkowite z zakresu od 0 do 8, których zakres znacznie odbiega od zakresu pozostałych zmiennych o wartościach binarnych. Zamień zmienną kategoryczną `legs` za pomocą kodowania `one-hot` na zestaw zmiennych binarnych. Przydatna może być funkcja [pandas.get_dummies](https://pandas.pydata.org/pandas-docs/stable/reference/api/pandas.get_dummies.html) lub transfromer danych [sklearn.preprocessing.OneHotEncoder](https://scikit-learn.org/stable/modules/generated/sklearn.preprocessing.OneHotEncoder.html)\n",
    "  - usuń wartości brakujące jeśli istnieją.\n",
    "\n",
    "Wynikowy zbiór uczący powinien zawierać wyłącznie wartości binarne $\\{0,1\\}$ we wszystkich zmiennych .  "
   ]
  },
  {
   "cell_type": "code",
   "execution_count": 2,
   "metadata": {},
   "outputs": [
    {
     "name": "stdout",
     "output_type": "stream",
     "text": [
      "     hair  feathers  eggs  milk  airborne  aquatic  predator  toothed  \\\n",
      "0       1         0     0     1         0        0         1        1   \n",
      "1       1         0     0     1         0        0         0        1   \n",
      "2       0         0     1     0         0        1         1        1   \n",
      "3       1         0     0     1         0        0         1        1   \n",
      "4       1         0     0     1         0        0         1        1   \n",
      "..    ...       ...   ...   ...       ...      ...       ...      ...   \n",
      "96      1         0     1     0         1        0         0        0   \n",
      "97      1         0     0     1         0        0         1        1   \n",
      "98      0         0     1     0         0        0         0        0   \n",
      "99      0         1     1     0         1        0         0        0   \n",
      "100     1         0     0     1         0        0         1        1   \n",
      "\n",
      "     backbone  breathes  ...  fins  tail  domestic  catsize  legs_0  legs_2  \\\n",
      "0           1         1  ...     0     0         0        1       0       0   \n",
      "1           1         1  ...     0     1         0        1       0       0   \n",
      "2           1         0  ...     1     1         0        0       1       0   \n",
      "3           1         1  ...     0     0         0        1       0       0   \n",
      "4           1         1  ...     0     1         0        1       0       0   \n",
      "..        ...       ...  ...   ...   ...       ...      ...     ...     ...   \n",
      "96          0         1  ...     0     0         0        0       0       0   \n",
      "97          1         1  ...     0     1         0        1       0       0   \n",
      "98          0         1  ...     0     0         0        0       1       0   \n",
      "99          1         1  ...     0     1         0        0       0       1   \n",
      "100         1         1  ...     0     0         1        1       0       1   \n",
      "\n",
      "     legs_4  legs_5  legs_6  legs_8  \n",
      "0         1       0       0       0  \n",
      "1         1       0       0       0  \n",
      "2         0       0       0       0  \n",
      "3         1       0       0       0  \n",
      "4         1       0       0       0  \n",
      "..      ...     ...     ...     ...  \n",
      "96        0       0       1       0  \n",
      "97        1       0       0       0  \n",
      "98        0       0       0       0  \n",
      "99        0       0       0       0  \n",
      "100       0       0       0       0  \n",
      "\n",
      "[101 rows x 21 columns]\n"
     ]
    }
   ],
   "source": [
    "import pandas as pd\n",
    "\n",
    "df = pd.read_csv('dane/zoo_nc.csv')\n",
    "df = df.drop('animal_name', axis=1)\n",
    "df = pd.get_dummies(df, columns=['legs'], prefix='legs')\n",
    "df = df.dropna()\n",
    "df = df.astype(int)\n",
    "\n",
    "print(df)"
   ]
  },
  {
   "cell_type": "markdown",
   "metadata": {
    "slideshow": {
     "slide_type": "slide"
    }
   },
   "source": [
    "2. Wykonaj analizę skupień w celu znalezienia naturalnych grup w zbiorze zwierząt za pomocą *JEDNEJ* z poniższych metod:\n",
    "   1. Metoda k-średnich - wyznacz optymalną liczbę klastrów za pomocą metody łokcia \n",
    "   2. Grupowanie hierarchiczne metodą łączenia zupełnego lub metodą połączeń średnich. Wyświetl dendrogram i na jego podstawie wybierz liczbę skupisk. Przypisz zwierzęta ze zbioru uczącego do tych skupisk.  \n",
    "   3. Metoda DBSCAN - zastosuj metrykę `manhattan`, `cityblock` lub `hamming`. W przypadku danych binarnych metryki te obliczają liczbę różniących się bitów. Dobierz promień `eps` tak aby uzyskać nie mniej niż 2 i nie więcej niż 7 grup zwierząt przy jak najmniejszej liczbie szumu. Minimalna liczebność grup nie powinna być mniejsza niż 5."
   ]
  },
  {
   "cell_type": "code",
   "execution_count": 3,
   "metadata": {},
   "outputs": [
    {
     "name": "stdout",
     "output_type": "stream",
     "text": [
      "liczba klastrów: 4\n",
      "cluster\n",
      "0    31\n",
      "1     8\n",
      "2    39\n",
      "3    23\n",
      "Name: count, dtype: int64\n"
     ]
    }
   ],
   "source": [
    "from sklearn.cluster import KMeans\n",
    "\n",
    "inertias = []\n",
    "k_range = range(1, 11)\n",
    "\n",
    "for k in k_range:\n",
    "    kmeans = KMeans(n_clusters=k, random_state=42)\n",
    "    kmeans.fit(df)\n",
    "    inertias.append(kmeans.inertia_)\n",
    "\n",
    "\n",
    "optimal_k = 4\n",
    "kmeans = KMeans(n_clusters=optimal_k, random_state=42)\n",
    "clusters = kmeans.fit_predict(df)\n",
    "\n",
    "df['cluster'] = clusters\n",
    "print(f\"liczba klastrów: {optimal_k}\")\n",
    "print(df['cluster'].value_counts().sort_index())"
   ]
  },
  {
   "cell_type": "markdown",
   "metadata": {
    "slideshow": {
     "slide_type": "slide"
    }
   },
   "source": [
    "3. Dla każdej grupy zwierząt uzyskanej w wyniku analizy skupień z poprzediego punktu wyznacz:\n",
    "   * liczbę zwierząt w grupie \n",
    "   * nazwy zwierząt w grupie\n",
    "   * procentową zawartość ssaków w grupie. Informację o tym, do jakiej gromady należą zwierzęta odczytasz z pliku [dane/zoo_classes.csv](dane/zoo_classes.csv). Zmienna ``class_type`` przybiera dla ssaków wartość 1, zaś zmienna ``class_name`` zawiera nazwę gromady i w przypadku ssaków posiada wartość ``Mammal``  "
   ]
  },
  {
   "cell_type": "code",
   "execution_count": null,
   "metadata": {},
   "outputs": [
    {
     "name": "stdout",
     "output_type": "stream",
     "text": [
      "Grupa 0:\n",
      "Liczba zwierząt: 33\n",
      "Nazwy zwierząt: ['bass', 'carp', 'catfish', 'chub', 'clam', 'crab', 'crayfish', 'dogfish', 'dolphin', 'frog', 'frog', 'frog', 'frog', 'haddock', 'herring', 'lobster', 'newt', 'pike', 'piranha', 'pitviper', 'porpoise', 'seahorse', 'seasnake', 'seawasp', 'slowworm', 'slug', 'sole', 'starfish', 'stingray', 'toad', 'tuatara', 'tuna', 'worm']\n",
      "Procent ssaków: 6.1%\n",
      "\n",
      "Grupa 1:\n",
      "Liczba zwierząt: 23\n",
      "Nazwy zwierząt: ['chicken', 'crow', 'dove', 'duck', 'flamingo', 'flea', 'gnat', 'gull', 'hawk', 'honeybee', 'housefly', 'ladybird', 'lark', 'moth', 'parakeet', 'pheasant', 'skimmer', 'skua', 'sparrow', 'swan', 'termite', 'wasp', 'wren']\n",
      "Procent ssaków: 0.0%\n",
      "\n",
      "Grupa 2:\n",
      "Liczba zwierząt: 39\n",
      "Nazwy zwierząt: ['aardvark', 'antelope', 'bear', 'boar', 'buffalo', 'calf', 'cavy', 'cheetah', 'deer', 'elephant', 'fruitbat', 'giraffe', 'goat', 'gorilla', 'hamster', 'hare', 'leopard', 'lion', 'lynx', 'mink', 'mole', 'mongoose', 'opossum', 'oryx', 'platypus', 'polecat', 'pony', 'puma', 'pussycat', 'raccoon', 'reindeer', 'seal', 'sealion', 'squirrel', 'vampire', 'vole', 'wallaby', 'wolf', 'X']\n",
      "Procent ssaków: 97.4%\n",
      "\n",
      "Grupa 3:\n",
      "Liczba zwierząt: 8\n",
      "Nazwy zwierząt: ['kiwi', 'octopus', 'ostrich', 'penguin', 'rhea', 'scorpion', 'tortoise', 'vulture']\n",
      "Procent ssaków: 0.0%\n",
      "\n"
     ]
    }
   ],
   "source": [
    "original_df = pd.read_csv('dane/zoo_nc.csv')\n",
    "classes_df = pd.read_csv('dane/zoo_classes.csv')\n",
    "\n",
    "df_with_names = df.copy()\n",
    "df_with_names['animal_name'] = original_df['animal_name']\n",
    "\n",
    "merged_df = df_with_names.merge(classes_df, on='animal_name', how='left')\n",
    "\n",
    "for cluster_id in sorted(df['cluster'].unique()):\n",
    "    cluster_data = merged_df[merged_df['cluster'] == cluster_id]\n",
    "    \n",
    "    count = len(cluster_data)\n",
    "    animals = cluster_data['animal_name'].tolist()\n",
    "    mammals = cluster_data[cluster_data['class_type'] == 1]\n",
    "    mammal_percentage = (len(mammals) / count) * 100 if count > 0 else 0\n",
    "    \n",
    "    print(f\"Grupa {cluster_id}:\")\n",
    "    print(f\"Liczba zwierząt: {count}\")\n",
    "    print(f\"Nazwy zwierząt: {animals}\")\n",
    "    print(f\"Procent ssaków: {mammal_percentage:.1f}%\")\n"
   ]
  },
  {
   "cell_type": "markdown",
   "metadata": {},
   "source": [
    "4. Sprawdź, do której grupy przypisany został ostatni, tajemniczy zwierz o nazwie `X`. Odpowiedz na pytanie, czy jest on ssakiem?"
   ]
  },
  {
   "cell_type": "code",
   "execution_count": 8,
   "metadata": {},
   "outputs": [
    {
     "name": "stdout",
     "output_type": "stream",
     "text": [
      "Zwierzę X zostało przypisane do grupy: 2\n",
      "czy jest ssakiem: nnie\n"
     ]
    }
   ],
   "source": [
    "mystery_animal = merged_df[merged_df['animal_name'] == 'X']\n",
    "\n",
    "cluster_id = mystery_animal['cluster'].iloc[0]\n",
    "class_type = mystery_animal['class_type'].iloc[0]\n",
    "is_mammal = class_type == 1\n",
    "    \n",
    "print(f\"Zwierzę X zostało przypisane do grupy: {cluster_id}\")\n",
    "print(f\"czy jest ssakiem: {'tak' if is_mammal else 'nnie'}\")\n"
   ]
  }
 ],
 "metadata": {
  "celltoolbar": "Slideshow",
  "kernelspec": {
   "display_name": "Python 3",
   "language": "python",
   "name": "python3"
  },
  "language_info": {
   "codemirror_mode": {
    "name": "ipython",
    "version": 3
   },
   "file_extension": ".py",
   "mimetype": "text/x-python",
   "name": "python",
   "nbconvert_exporter": "python",
   "pygments_lexer": "ipython3",
   "version": "3.12.4"
  },
  "toc": {
   "base_numbering": 1,
   "nav_menu": {},
   "number_sections": true,
   "sideBar": true,
   "skip_h1_title": false,
   "title_cell": "Table of Contents",
   "title_sidebar": "Contents",
   "toc_cell": true,
   "toc_position": {},
   "toc_section_display": true,
   "toc_window_display": false
  },
  "varInspector": {
   "cols": {
    "lenName": 16,
    "lenType": 16,
    "lenVar": 40
   },
   "kernels_config": {
    "python": {
     "delete_cmd_postfix": "",
     "delete_cmd_prefix": "del ",
     "library": "var_list.py",
     "varRefreshCmd": "print(var_dic_list())"
    },
    "r": {
     "delete_cmd_postfix": ") ",
     "delete_cmd_prefix": "rm(",
     "library": "var_list.r",
     "varRefreshCmd": "cat(var_dic_list()) "
    }
   },
   "types_to_exclude": [
    "module",
    "function",
    "builtin_function_or_method",
    "instance",
    "_Feature"
   ],
   "window_display": false
  }
 },
 "nbformat": 4,
 "nbformat_minor": 4
}
